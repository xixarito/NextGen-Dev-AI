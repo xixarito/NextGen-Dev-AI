{
 "cells": [
  {
   "cell_type": "markdown",
   "id": "0ea4eedc",
   "metadata": {},
   "source": [
    "## 0. Setup"
   ]
  },
  {
   "cell_type": "code",
   "execution_count": 25,
   "id": "0c07e509",
   "metadata": {},
   "outputs": [
    {
     "name": "stdout",
     "output_type": "stream",
     "text": [
      "Requirement already satisfied: PyPDF2 in /Users/cesarvelazquez/Documents/Personal/CursoIA_Tec/.venv/lib/python3.13/site-packages (3.0.1)\n",
      "Requirement already satisfied: langchain in /Users/cesarvelazquez/Documents/Personal/CursoIA_Tec/.venv/lib/python3.13/site-packages (0.3.27)\n",
      "Collecting tiktoken\n",
      "  Downloading tiktoken-0.11.0-cp313-cp313-macosx_11_0_arm64.whl.metadata (6.7 kB)\n",
      "Requirement already satisfied: chromadb in /Users/cesarvelazquez/Documents/Personal/CursoIA_Tec/.venv/lib/python3.13/site-packages (1.1.0)\n",
      "Requirement already satisfied: openai in /Users/cesarvelazquez/Documents/Personal/CursoIA_Tec/.venv/lib/python3.13/site-packages (1.108.0)\n",
      "Requirement already satisfied: pytest in /Users/cesarvelazquez/Documents/Personal/CursoIA_Tec/.venv/lib/python3.13/site-packages (8.4.2)\n",
      "Requirement already satisfied: pytest-mock in /Users/cesarvelazquez/Documents/Personal/CursoIA_Tec/.venv/lib/python3.13/site-packages (3.15.1)\n",
      "Requirement already satisfied: pydantic in /Users/cesarvelazquez/Documents/Personal/CursoIA_Tec/.venv/lib/python3.13/site-packages (2.11.9)\n",
      "Requirement already satisfied: langchain-core<1.0.0,>=0.3.72 in /Users/cesarvelazquez/Documents/Personal/CursoIA_Tec/.venv/lib/python3.13/site-packages (from langchain) (0.3.76)\n",
      "Requirement already satisfied: langchain-text-splitters<1.0.0,>=0.3.9 in /Users/cesarvelazquez/Documents/Personal/CursoIA_Tec/.venv/lib/python3.13/site-packages (from langchain) (0.3.11)\n",
      "Requirement already satisfied: langsmith>=0.1.17 in /Users/cesarvelazquez/Documents/Personal/CursoIA_Tec/.venv/lib/python3.13/site-packages (from langchain) (0.4.28)\n",
      "Requirement already satisfied: SQLAlchemy<3,>=1.4 in /Users/cesarvelazquez/Documents/Personal/CursoIA_Tec/.venv/lib/python3.13/site-packages (from langchain) (2.0.43)\n",
      "Requirement already satisfied: requests<3,>=2 in /Users/cesarvelazquez/Documents/Personal/CursoIA_Tec/.venv/lib/python3.13/site-packages (from langchain) (2.32.5)\n",
      "Requirement already satisfied: PyYAML>=5.3 in /Users/cesarvelazquez/Documents/Personal/CursoIA_Tec/.venv/lib/python3.13/site-packages (from langchain) (6.0.2)\n",
      "Requirement already satisfied: annotated-types>=0.6.0 in /Users/cesarvelazquez/Documents/Personal/CursoIA_Tec/.venv/lib/python3.13/site-packages (from pydantic) (0.7.0)\n",
      "Requirement already satisfied: pydantic-core==2.33.2 in /Users/cesarvelazquez/Documents/Personal/CursoIA_Tec/.venv/lib/python3.13/site-packages (from pydantic) (2.33.2)\n",
      "Requirement already satisfied: typing-extensions>=4.12.2 in /Users/cesarvelazquez/Documents/Personal/CursoIA_Tec/.venv/lib/python3.13/site-packages (from pydantic) (4.15.0)\n",
      "Requirement already satisfied: typing-inspection>=0.4.0 in /Users/cesarvelazquez/Documents/Personal/CursoIA_Tec/.venv/lib/python3.13/site-packages (from pydantic) (0.4.1)\n",
      "Requirement already satisfied: tenacity!=8.4.0,<10.0.0,>=8.1.0 in /Users/cesarvelazquez/Documents/Personal/CursoIA_Tec/.venv/lib/python3.13/site-packages (from langchain-core<1.0.0,>=0.3.72->langchain) (9.1.2)\n",
      "Requirement already satisfied: jsonpatch<2.0,>=1.33 in /Users/cesarvelazquez/Documents/Personal/CursoIA_Tec/.venv/lib/python3.13/site-packages (from langchain-core<1.0.0,>=0.3.72->langchain) (1.33)\n",
      "Requirement already satisfied: packaging>=23.2 in /Users/cesarvelazquez/Documents/Personal/CursoIA_Tec/.venv/lib/python3.13/site-packages (from langchain-core<1.0.0,>=0.3.72->langchain) (25.0)\n",
      "Requirement already satisfied: jsonpointer>=1.9 in /Users/cesarvelazquez/Documents/Personal/CursoIA_Tec/.venv/lib/python3.13/site-packages (from jsonpatch<2.0,>=1.33->langchain-core<1.0.0,>=0.3.72->langchain) (3.0.0)\n",
      "Requirement already satisfied: charset_normalizer<4,>=2 in /Users/cesarvelazquez/Documents/Personal/CursoIA_Tec/.venv/lib/python3.13/site-packages (from requests<3,>=2->langchain) (3.4.3)\n",
      "Requirement already satisfied: idna<4,>=2.5 in /Users/cesarvelazquez/Documents/Personal/CursoIA_Tec/.venv/lib/python3.13/site-packages (from requests<3,>=2->langchain) (3.10)\n",
      "Requirement already satisfied: urllib3<3,>=1.21.1 in /Users/cesarvelazquez/Documents/Personal/CursoIA_Tec/.venv/lib/python3.13/site-packages (from requests<3,>=2->langchain) (2.5.0)\n",
      "Requirement already satisfied: certifi>=2017.4.17 in /Users/cesarvelazquez/Documents/Personal/CursoIA_Tec/.venv/lib/python3.13/site-packages (from requests<3,>=2->langchain) (2025.8.3)\n",
      "Requirement already satisfied: regex>=2022.1.18 in /Users/cesarvelazquez/Documents/Personal/CursoIA_Tec/.venv/lib/python3.13/site-packages (from tiktoken) (2025.9.1)\n",
      "Requirement already satisfied: build>=1.0.3 in /Users/cesarvelazquez/Documents/Personal/CursoIA_Tec/.venv/lib/python3.13/site-packages (from chromadb) (1.3.0)\n",
      "Requirement already satisfied: pybase64>=1.4.1 in /Users/cesarvelazquez/Documents/Personal/CursoIA_Tec/.venv/lib/python3.13/site-packages (from chromadb) (1.4.2)\n",
      "Requirement already satisfied: uvicorn>=0.18.3 in /Users/cesarvelazquez/Documents/Personal/CursoIA_Tec/.venv/lib/python3.13/site-packages (from uvicorn[standard]>=0.18.3->chromadb) (0.35.0)\n",
      "Requirement already satisfied: numpy>=1.22.5 in /Users/cesarvelazquez/Documents/Personal/CursoIA_Tec/.venv/lib/python3.13/site-packages (from chromadb) (2.3.3)\n",
      "Requirement already satisfied: posthog<6.0.0,>=2.4.0 in /Users/cesarvelazquez/Documents/Personal/CursoIA_Tec/.venv/lib/python3.13/site-packages (from chromadb) (5.4.0)\n",
      "Requirement already satisfied: onnxruntime>=1.14.1 in /Users/cesarvelazquez/Documents/Personal/CursoIA_Tec/.venv/lib/python3.13/site-packages (from chromadb) (1.22.1)\n",
      "Requirement already satisfied: opentelemetry-api>=1.2.0 in /Users/cesarvelazquez/Documents/Personal/CursoIA_Tec/.venv/lib/python3.13/site-packages (from chromadb) (1.37.0)\n",
      "Requirement already satisfied: opentelemetry-exporter-otlp-proto-grpc>=1.2.0 in /Users/cesarvelazquez/Documents/Personal/CursoIA_Tec/.venv/lib/python3.13/site-packages (from chromadb) (1.37.0)\n",
      "Requirement already satisfied: opentelemetry-sdk>=1.2.0 in /Users/cesarvelazquez/Documents/Personal/CursoIA_Tec/.venv/lib/python3.13/site-packages (from chromadb) (1.37.0)\n",
      "Requirement already satisfied: tokenizers>=0.13.2 in /Users/cesarvelazquez/Documents/Personal/CursoIA_Tec/.venv/lib/python3.13/site-packages (from chromadb) (0.22.0)\n",
      "Requirement already satisfied: pypika>=0.48.9 in /Users/cesarvelazquez/Documents/Personal/CursoIA_Tec/.venv/lib/python3.13/site-packages (from chromadb) (0.48.9)\n",
      "Requirement already satisfied: tqdm>=4.65.0 in /Users/cesarvelazquez/Documents/Personal/CursoIA_Tec/.venv/lib/python3.13/site-packages (from chromadb) (4.67.1)\n",
      "Requirement already satisfied: overrides>=7.3.1 in /Users/cesarvelazquez/Documents/Personal/CursoIA_Tec/.venv/lib/python3.13/site-packages (from chromadb) (7.7.0)\n",
      "Requirement already satisfied: importlib-resources in /Users/cesarvelazquez/Documents/Personal/CursoIA_Tec/.venv/lib/python3.13/site-packages (from chromadb) (6.5.2)\n",
      "Requirement already satisfied: grpcio>=1.58.0 in /Users/cesarvelazquez/Documents/Personal/CursoIA_Tec/.venv/lib/python3.13/site-packages (from chromadb) (1.75.0)\n",
      "Requirement already satisfied: bcrypt>=4.0.1 in /Users/cesarvelazquez/Documents/Personal/CursoIA_Tec/.venv/lib/python3.13/site-packages (from chromadb) (4.3.0)\n",
      "Requirement already satisfied: typer>=0.9.0 in /Users/cesarvelazquez/Documents/Personal/CursoIA_Tec/.venv/lib/python3.13/site-packages (from chromadb) (0.17.4)\n",
      "Requirement already satisfied: kubernetes>=28.1.0 in /Users/cesarvelazquez/Documents/Personal/CursoIA_Tec/.venv/lib/python3.13/site-packages (from chromadb) (33.1.0)\n",
      "Requirement already satisfied: mmh3>=4.0.1 in /Users/cesarvelazquez/Documents/Personal/CursoIA_Tec/.venv/lib/python3.13/site-packages (from chromadb) (5.2.0)\n",
      "Requirement already satisfied: orjson>=3.9.12 in /Users/cesarvelazquez/Documents/Personal/CursoIA_Tec/.venv/lib/python3.13/site-packages (from chromadb) (3.11.3)\n",
      "Requirement already satisfied: httpx>=0.27.0 in /Users/cesarvelazquez/Documents/Personal/CursoIA_Tec/.venv/lib/python3.13/site-packages (from chromadb) (0.28.1)\n",
      "Requirement already satisfied: rich>=10.11.0 in /Users/cesarvelazquez/Documents/Personal/CursoIA_Tec/.venv/lib/python3.13/site-packages (from chromadb) (14.1.0)\n",
      "Requirement already satisfied: jsonschema>=4.19.0 in /Users/cesarvelazquez/Documents/Personal/CursoIA_Tec/.venv/lib/python3.13/site-packages (from chromadb) (4.25.1)\n",
      "Requirement already satisfied: six>=1.5 in /Users/cesarvelazquez/Documents/Personal/CursoIA_Tec/.venv/lib/python3.13/site-packages (from posthog<6.0.0,>=2.4.0->chromadb) (1.17.0)\n",
      "Requirement already satisfied: python-dateutil>=2.2 in /Users/cesarvelazquez/Documents/Personal/CursoIA_Tec/.venv/lib/python3.13/site-packages (from posthog<6.0.0,>=2.4.0->chromadb) (2.9.0.post0)\n",
      "Requirement already satisfied: backoff>=1.10.0 in /Users/cesarvelazquez/Documents/Personal/CursoIA_Tec/.venv/lib/python3.13/site-packages (from posthog<6.0.0,>=2.4.0->chromadb) (2.2.1)\n",
      "Requirement already satisfied: distro>=1.5.0 in /Users/cesarvelazquez/Documents/Personal/CursoIA_Tec/.venv/lib/python3.13/site-packages (from posthog<6.0.0,>=2.4.0->chromadb) (1.9.0)\n",
      "Requirement already satisfied: anyio<5,>=3.5.0 in /Users/cesarvelazquez/Documents/Personal/CursoIA_Tec/.venv/lib/python3.13/site-packages (from openai) (4.10.0)\n",
      "Requirement already satisfied: jiter<1,>=0.4.0 in /Users/cesarvelazquez/Documents/Personal/CursoIA_Tec/.venv/lib/python3.13/site-packages (from openai) (0.11.0)\n",
      "Requirement already satisfied: sniffio in /Users/cesarvelazquez/Documents/Personal/CursoIA_Tec/.venv/lib/python3.13/site-packages (from openai) (1.3.1)\n",
      "Requirement already satisfied: httpcore==1.* in /Users/cesarvelazquez/Documents/Personal/CursoIA_Tec/.venv/lib/python3.13/site-packages (from httpx>=0.27.0->chromadb) (1.0.9)\n",
      "Requirement already satisfied: h11>=0.16 in /Users/cesarvelazquez/Documents/Personal/CursoIA_Tec/.venv/lib/python3.13/site-packages (from httpcore==1.*->httpx>=0.27.0->chromadb) (0.16.0)\n",
      "Requirement already satisfied: iniconfig>=1 in /Users/cesarvelazquez/Documents/Personal/CursoIA_Tec/.venv/lib/python3.13/site-packages (from pytest) (2.1.0)\n",
      "Requirement already satisfied: pluggy<2,>=1.5 in /Users/cesarvelazquez/Documents/Personal/CursoIA_Tec/.venv/lib/python3.13/site-packages (from pytest) (1.6.0)\n",
      "Requirement already satisfied: pygments>=2.7.2 in /Users/cesarvelazquez/Documents/Personal/CursoIA_Tec/.venv/lib/python3.13/site-packages (from pytest) (2.19.2)\n",
      "Requirement already satisfied: pyproject_hooks in /Users/cesarvelazquez/Documents/Personal/CursoIA_Tec/.venv/lib/python3.13/site-packages (from build>=1.0.3->chromadb) (1.2.0)\n",
      "Requirement already satisfied: attrs>=22.2.0 in /Users/cesarvelazquez/Documents/Personal/CursoIA_Tec/.venv/lib/python3.13/site-packages (from jsonschema>=4.19.0->chromadb) (25.3.0)\n",
      "Requirement already satisfied: jsonschema-specifications>=2023.03.6 in /Users/cesarvelazquez/Documents/Personal/CursoIA_Tec/.venv/lib/python3.13/site-packages (from jsonschema>=4.19.0->chromadb) (2025.9.1)\n",
      "Requirement already satisfied: referencing>=0.28.4 in /Users/cesarvelazquez/Documents/Personal/CursoIA_Tec/.venv/lib/python3.13/site-packages (from jsonschema>=4.19.0->chromadb) (0.36.2)\n",
      "Requirement already satisfied: rpds-py>=0.7.1 in /Users/cesarvelazquez/Documents/Personal/CursoIA_Tec/.venv/lib/python3.13/site-packages (from jsonschema>=4.19.0->chromadb) (0.27.1)\n",
      "Requirement already satisfied: google-auth>=1.0.1 in /Users/cesarvelazquez/Documents/Personal/CursoIA_Tec/.venv/lib/python3.13/site-packages (from kubernetes>=28.1.0->chromadb) (2.40.3)\n",
      "Requirement already satisfied: websocket-client!=0.40.0,!=0.41.*,!=0.42.*,>=0.32.0 in /Users/cesarvelazquez/Documents/Personal/CursoIA_Tec/.venv/lib/python3.13/site-packages (from kubernetes>=28.1.0->chromadb) (1.8.0)\n",
      "Requirement already satisfied: requests-oauthlib in /Users/cesarvelazquez/Documents/Personal/CursoIA_Tec/.venv/lib/python3.13/site-packages (from kubernetes>=28.1.0->chromadb) (2.0.0)\n",
      "Requirement already satisfied: oauthlib>=3.2.2 in /Users/cesarvelazquez/Documents/Personal/CursoIA_Tec/.venv/lib/python3.13/site-packages (from kubernetes>=28.1.0->chromadb) (3.3.1)\n",
      "Requirement already satisfied: durationpy>=0.7 in /Users/cesarvelazquez/Documents/Personal/CursoIA_Tec/.venv/lib/python3.13/site-packages (from kubernetes>=28.1.0->chromadb) (0.10)\n",
      "Requirement already satisfied: cachetools<6.0,>=2.0.0 in /Users/cesarvelazquez/Documents/Personal/CursoIA_Tec/.venv/lib/python3.13/site-packages (from google-auth>=1.0.1->kubernetes>=28.1.0->chromadb) (5.5.2)\n",
      "Requirement already satisfied: pyasn1-modules>=0.2.1 in /Users/cesarvelazquez/Documents/Personal/CursoIA_Tec/.venv/lib/python3.13/site-packages (from google-auth>=1.0.1->kubernetes>=28.1.0->chromadb) (0.4.2)\n",
      "Requirement already satisfied: rsa<5,>=3.1.4 in /Users/cesarvelazquez/Documents/Personal/CursoIA_Tec/.venv/lib/python3.13/site-packages (from google-auth>=1.0.1->kubernetes>=28.1.0->chromadb) (4.9.1)\n",
      "Requirement already satisfied: pyasn1>=0.1.3 in /Users/cesarvelazquez/Documents/Personal/CursoIA_Tec/.venv/lib/python3.13/site-packages (from rsa<5,>=3.1.4->google-auth>=1.0.1->kubernetes>=28.1.0->chromadb) (0.6.1)\n",
      "Requirement already satisfied: requests-toolbelt>=1.0.0 in /Users/cesarvelazquez/Documents/Personal/CursoIA_Tec/.venv/lib/python3.13/site-packages (from langsmith>=0.1.17->langchain) (1.0.0)\n",
      "Requirement already satisfied: zstandard>=0.23.0 in /Users/cesarvelazquez/Documents/Personal/CursoIA_Tec/.venv/lib/python3.13/site-packages (from langsmith>=0.1.17->langchain) (0.25.0)\n",
      "Requirement already satisfied: coloredlogs in /Users/cesarvelazquez/Documents/Personal/CursoIA_Tec/.venv/lib/python3.13/site-packages (from onnxruntime>=1.14.1->chromadb) (15.0.1)\n",
      "Requirement already satisfied: flatbuffers in /Users/cesarvelazquez/Documents/Personal/CursoIA_Tec/.venv/lib/python3.13/site-packages (from onnxruntime>=1.14.1->chromadb) (25.2.10)\n",
      "Requirement already satisfied: protobuf in /Users/cesarvelazquez/Documents/Personal/CursoIA_Tec/.venv/lib/python3.13/site-packages (from onnxruntime>=1.14.1->chromadb) (6.32.1)\n",
      "Requirement already satisfied: sympy in /Users/cesarvelazquez/Documents/Personal/CursoIA_Tec/.venv/lib/python3.13/site-packages (from onnxruntime>=1.14.1->chromadb) (1.14.0)\n",
      "Requirement already satisfied: importlib-metadata<8.8.0,>=6.0 in /Users/cesarvelazquez/Documents/Personal/CursoIA_Tec/.venv/lib/python3.13/site-packages (from opentelemetry-api>=1.2.0->chromadb) (8.7.0)\n",
      "Requirement already satisfied: zipp>=3.20 in /Users/cesarvelazquez/Documents/Personal/CursoIA_Tec/.venv/lib/python3.13/site-packages (from importlib-metadata<8.8.0,>=6.0->opentelemetry-api>=1.2.0->chromadb) (3.23.0)\n",
      "Requirement already satisfied: googleapis-common-protos~=1.57 in /Users/cesarvelazquez/Documents/Personal/CursoIA_Tec/.venv/lib/python3.13/site-packages (from opentelemetry-exporter-otlp-proto-grpc>=1.2.0->chromadb) (1.70.0)\n",
      "Requirement already satisfied: opentelemetry-exporter-otlp-proto-common==1.37.0 in /Users/cesarvelazquez/Documents/Personal/CursoIA_Tec/.venv/lib/python3.13/site-packages (from opentelemetry-exporter-otlp-proto-grpc>=1.2.0->chromadb) (1.37.0)\n",
      "Requirement already satisfied: opentelemetry-proto==1.37.0 in /Users/cesarvelazquez/Documents/Personal/CursoIA_Tec/.venv/lib/python3.13/site-packages (from opentelemetry-exporter-otlp-proto-grpc>=1.2.0->chromadb) (1.37.0)\n",
      "Requirement already satisfied: opentelemetry-semantic-conventions==0.58b0 in /Users/cesarvelazquez/Documents/Personal/CursoIA_Tec/.venv/lib/python3.13/site-packages (from opentelemetry-sdk>=1.2.0->chromadb) (0.58b0)\n",
      "Requirement already satisfied: markdown-it-py>=2.2.0 in /Users/cesarvelazquez/Documents/Personal/CursoIA_Tec/.venv/lib/python3.13/site-packages (from rich>=10.11.0->chromadb) (4.0.0)\n",
      "Requirement already satisfied: mdurl~=0.1 in /Users/cesarvelazquez/Documents/Personal/CursoIA_Tec/.venv/lib/python3.13/site-packages (from markdown-it-py>=2.2.0->rich>=10.11.0->chromadb) (0.1.2)\n",
      "Requirement already satisfied: huggingface-hub<1.0,>=0.16.4 in /Users/cesarvelazquez/Documents/Personal/CursoIA_Tec/.venv/lib/python3.13/site-packages (from tokenizers>=0.13.2->chromadb) (0.34.5)\n",
      "Requirement already satisfied: filelock in /Users/cesarvelazquez/Documents/Personal/CursoIA_Tec/.venv/lib/python3.13/site-packages (from huggingface-hub<1.0,>=0.16.4->tokenizers>=0.13.2->chromadb) (3.19.1)\n",
      "Requirement already satisfied: fsspec>=2023.5.0 in /Users/cesarvelazquez/Documents/Personal/CursoIA_Tec/.venv/lib/python3.13/site-packages (from huggingface-hub<1.0,>=0.16.4->tokenizers>=0.13.2->chromadb) (2025.9.0)\n",
      "Requirement already satisfied: hf-xet<2.0.0,>=1.1.3 in /Users/cesarvelazquez/Documents/Personal/CursoIA_Tec/.venv/lib/python3.13/site-packages (from huggingface-hub<1.0,>=0.16.4->tokenizers>=0.13.2->chromadb) (1.1.10)\n",
      "Requirement already satisfied: click>=8.0.0 in /Users/cesarvelazquez/Documents/Personal/CursoIA_Tec/.venv/lib/python3.13/site-packages (from typer>=0.9.0->chromadb) (8.2.1)\n",
      "Requirement already satisfied: shellingham>=1.3.0 in /Users/cesarvelazquez/Documents/Personal/CursoIA_Tec/.venv/lib/python3.13/site-packages (from typer>=0.9.0->chromadb) (1.5.4)\n",
      "Requirement already satisfied: httptools>=0.6.3 in /Users/cesarvelazquez/Documents/Personal/CursoIA_Tec/.venv/lib/python3.13/site-packages (from uvicorn[standard]>=0.18.3->chromadb) (0.6.4)\n",
      "Requirement already satisfied: python-dotenv>=0.13 in /Users/cesarvelazquez/Documents/Personal/CursoIA_Tec/.venv/lib/python3.13/site-packages (from uvicorn[standard]>=0.18.3->chromadb) (1.1.1)\n",
      "Requirement already satisfied: uvloop>=0.15.1 in /Users/cesarvelazquez/Documents/Personal/CursoIA_Tec/.venv/lib/python3.13/site-packages (from uvicorn[standard]>=0.18.3->chromadb) (0.21.0)\n",
      "Requirement already satisfied: watchfiles>=0.13 in /Users/cesarvelazquez/Documents/Personal/CursoIA_Tec/.venv/lib/python3.13/site-packages (from uvicorn[standard]>=0.18.3->chromadb) (1.1.0)\n",
      "Requirement already satisfied: websockets>=10.4 in /Users/cesarvelazquez/Documents/Personal/CursoIA_Tec/.venv/lib/python3.13/site-packages (from uvicorn[standard]>=0.18.3->chromadb) (15.0.1)\n",
      "Requirement already satisfied: humanfriendly>=9.1 in /Users/cesarvelazquez/Documents/Personal/CursoIA_Tec/.venv/lib/python3.13/site-packages (from coloredlogs->onnxruntime>=1.14.1->chromadb) (10.0)\n",
      "Requirement already satisfied: mpmath<1.4,>=1.1.0 in /Users/cesarvelazquez/Documents/Personal/CursoIA_Tec/.venv/lib/python3.13/site-packages (from sympy->onnxruntime>=1.14.1->chromadb) (1.3.0)\n",
      "Downloading tiktoken-0.11.0-cp313-cp313-macosx_11_0_arm64.whl (997 kB)\n",
      "\u001b[2K   \u001b[90m━━━━━━━━━━━━━━━━━━━━━━━━━━━━━━━━━━━━━━━━\u001b[0m \u001b[32m997.1/997.1 kB\u001b[0m \u001b[31m9.1 MB/s\u001b[0m  \u001b[33m0:00:00\u001b[0m\n",
      "\u001b[?25hInstalling collected packages: tiktoken\n",
      "Successfully installed tiktoken-0.11.0\n"
     ]
    }
   ],
   "source": [
    "!pip install PyPDF2 langchain tiktoken chromadb openai pytest pytest-mock pydantic"
   ]
  },
  {
   "cell_type": "markdown",
   "id": "22e19bdb",
   "metadata": {},
   "source": [
    "## 1. Extracting files"
   ]
  },
  {
   "cell_type": "code",
   "execution_count": null,
   "id": "6c51044c",
   "metadata": {},
   "outputs": [
    {
     "name": "stdout",
     "output_type": "stream",
     "text": [
      "Extracted text length: 249017\n"
     ]
    }
   ],
   "source": [
    "# pdf_loader.py\n",
    "from PyPDF2 import PdfReader\n",
    "\n",
    "def extract_text_from_pdf(pdf_path: str) -> str:\n",
    "    \"\"\"\n",
    "    Extrae todo el texto de un archivo PDF.\n",
    "    Args:\n",
    "      pdf_path (str): Ruta al archivo PDF.\n",
    "    Returns:\n",
    "      str: Texto completo extraído.\n",
    "    \"\"\"\n",
    "    reader = PdfReader(pdf_path)\n",
    "    full_text = []\n",
    "    for page in reader.pages:\n",
    "        full_text.append(page.extract_text())\n",
    "    return \"\\n\".join(filter(None, full_text))\n",
    "\n",
    "\n",
    "# Test de unidad básico\n",
    "if __name__ == \"__main__\":\n",
    "    example_pdf_path = \"./test_docs/manual_empleado.pdf\"\n",
    "    text = extract_text_from_pdf(example_pdf_path)\n",
    "    print(f\"Extracted text length: {len(text)}\")"
   ]
  },
  {
   "cell_type": "markdown",
   "id": "6b83e77a",
   "metadata": {},
   "source": [
    "## 2. Text Splitting into Chunks"
   ]
  },
  {
   "cell_type": "code",
   "execution_count": 37,
   "id": "a4b8f501",
   "metadata": {},
   "outputs": [
    {
     "name": "stdout",
     "output_type": "stream",
     "text": [
      "Chunks created: 282\n",
      "First chunk preview: Aprobado por la\n",
      " Junta de Síndicos \n",
      "Voto: JS08-202010MANUAL\n",
      "DEL \n",
      "EMPLEADO\n",
      "Bienvenida  .....................................................................................................................................  i\n",
      "Preámbulo  .....................................................................................................................................  ii\n",
      "Introducción  .................................................................................................................................  iii\n",
      "Misión  ..........................................................................................................................................  iv\n",
      "Visión  .............. ............................................................................................................................  iv\n",
      "Objetivos  ......................................................................................................................................  iv\n",
      "I.  POLÍTICAS\n"
     ]
    }
   ],
   "source": [
    "# chunking.py\n",
    "from langchain.text_splitter import RecursiveCharacterTextSplitter\n",
    "from typing import List\n",
    "\n",
    "def chunk_text(text: str, chunk_size: int = 1000, chunk_overlap: int = 100) -> List[str]:\n",
    "    \"\"\"\n",
    "    Divide el texto en chunks compatibles con LangChain.\n",
    "    \n",
    "    Args:\n",
    "      text (str): Texto completo a dividir.\n",
    "      chunk_size (int): Tamaño máximo por chunk.\n",
    "      chunk_overlap (int): Tamaño de overlap para mantener contexto.\n",
    "      \n",
    "    Returns:\n",
    "      List[str]: Lista de fragmentos de texto.\n",
    "    \"\"\"\n",
    "    splitter = RecursiveCharacterTextSplitter(chunk_size=chunk_size, chunk_overlap=chunk_overlap)\n",
    "    return splitter.split_text(text)\n",
    "\n",
    "\n",
    "# Test unidad básico\n",
    "if __name__ == \"__main__\":\n",
    "    pdf_path = \"./test_docs/manual_empleado.pdf\"\n",
    "    chunks = chunk_text(text)\n",
    "    print(f\"Chunks created: {len(chunks)}\")\n",
    "    print(f\"First chunk preview: {chunks[0][:2000]}\")"
   ]
  },
  {
   "cell_type": "markdown",
   "id": "8d06e27f",
   "metadata": {},
   "source": [
    "## 3. Embedding"
   ]
  },
  {
   "cell_type": "code",
   "execution_count": null,
   "id": "ec00fa4b",
   "metadata": {},
   "outputs": [
    {
     "name": "stdout",
     "output_type": "stream",
     "text": [
      "Embedding vector length for first text: 1536\n",
      "Embedding vector length for first text: [0.04505504854388606, 0.04698253617589357, 0.06235425805052792, -0.005029540717322104, 0.01339604667929761, -0.003577900965823686, 0.00401158600898829, 0.023141910349285724, -0.04883774572253637, 0.0010586128775813598, 0.05517436419986116, -0.0043669666109888705, 0.0070774972576526955, -0.012986454719305663, 0.007282293237648669, 0.041874689853254175, 0.006354689395649879, -0.00027425303095765123, 0.01184803203397138, 0.029683324806606484, 0.012070897535308529, 0.06505274297051271, -0.02231068070262279, 0.014925990871960053, 0.002736130376993975, -0.011558908516641207, -0.026647531599930135, -0.01722692955863193, 0.018202720963959952, -0.012149202209303206, 0.016973946946629338, -0.03120122234126727, -0.01111920037730643, 0.0066076720076524735, 0.009083290029316187, 0.004981353619654179, -0.04760896984256053, 0.01756423970796872, 0.04310346573323002, -0.00986030924931037, 0.00019105478049961358, 0.009775981711976172, 0.018467751165286813, -0.015419909437963585, -0.03847749318123773, 0.006330595613985263, -0.018527985386617703, -0.01687757181997087, 0.03500801469856612, 0.029201452898604607, -0.05633085826918184, 0.014311603863294744, 0.014215228736636278, 0.04982558099189821, 0.020262724627953504, 0.014745288207967389, -0.0300206368185885, 0.020901205883944736, -0.002136801923661389, -0.05358418671719044, 0.023816532510604536, -0.010275924072641838, 0.029924261691930035, 0.007703931389980965, -0.025611505973271224, -0.014709148233962424, -0.04898230561855623, 0.00822194420331042, -0.019335119854632103, -0.030984380634592256, -0.023057582811951527, 0.028864142749267813, -0.019226699001294593, 0.03129759560528051, -0.014793475771296622, 0.054210620383857405, -0.040404980813245235, -0.014130901199302081, -0.010619258016640763, -0.046500662405246466, 0.02575606773193631, 0.0138176843659686, 0.025226007329282586, 0.01782926990929558, 0.010336158293972726, 0.032791399823937986, -0.07464199822383408, 0.013528560848638427, -0.0517048819918991, -0.025105540749266037, -0.050018331245215146, 0.027418527025262183, -0.0025689810181604594, 0.03438158103189916, 0.05541530108518471, -0.051897632245216034, 0.006691999544986671, -0.03587538152526618, -0.022696179346611427, 0.012444348589972898, 0.011167387940635662, -0.04194697166390933, -0.06495636970649947, -0.014167042104629659, 0.015684938707967833, -0.020021787742629953, -0.02041933397594286, -0.03659819218123684, -0.03922439529056646, -0.004924131295654358, 0.0228166477892732, 0.005327698995322864, 0.012372067710640354, 0.03806790122124578, 0.02756308878392727, -0.002079579599661568, -0.014203182078634623, -0.011360136331307369, 0.01868459287196183, -0.055993544394554604, -0.005767407600318949, -0.05449974390118757, 0.015925875593291384, -0.02394904667994535, 0.03189993781858939, -0.03628497348525813, 0.02044342729194617, 0.035730821629246325, -0.013865871929297833, -0.06698023060252022, 0.023467174771943475, -0.016937806041301757, 0.07777417028245935, -0.0123600210526387, 0.017961785941281627, 0.004252521962989229, 0.02797267888127399, -0.03638135047456182, -0.030767537065272015, -0.05999308327987993, 0.04532007688256769, -0.02202155718529262, -0.0037676379248256313, 0.05589717113054136, -0.052427692647869756, 0.007818376037980607, 0.025177820697275966, 0.023768344015952687, -0.013902011903302798, 0.039658078703916494, 0.005159043920654469, -0.00910738427664211, -0.006981123062316842, -0.020672316587945452, -0.030984380634592256, -0.024418872861268186, -0.0013748414918305816, 0.013131016477970749, 0.01791359744662978, -0.04127235136523575, 0.006258314734652721, -0.015733127202619678, 0.0007359844471649272, 0.03079163224392055, -0.0025373581916601352, -0.011583001832644518, 0.037200530669255265, 0.005978226443654444, -0.06211332116520437, 0.06211332116520437, 0.004580797351655432, -0.029659231490603174, 0.01968447759329316, -0.016082483078635513, 0.0015404851348292169, 0.016082483078635513, -0.001532202882830089, -0.02580425436394293, 0.008252061313975864, -0.007462995435980026, -0.008920658749309926, 0.024298404418606413, -0.03274321319193137, -0.0034453860979909087, -0.02729805858260041, -0.060089460269183624, -0.004460329374654963, -0.022672086030608118, 0.021310795981291455, 0.0006268102702486728, -0.006932935964648917, -0.00555056496232132, -0.00704135728364773, 0.025731974415933, 0.02761127541593389, -0.01868459287196183, -0.036405441927919904, -0.0008485467757479788, -0.09237489486911642, -0.056475418165201706, -0.02924964139325645, -0.0015088621919135661, 0.032574558117262974, 0.012805752986635612, -0.005107844925655475, -0.034718891181235945, -0.04088685458389234, -0.015263301021296844, -0.012094991782634451, -0.006228197623987276, 0.058354719165202594, -0.004568750693653777, 0.026719811547940064, 0.009402530657311803, -0.025322382455941053, 0.03303233670926154, -0.06823309793585414, -0.0020509684376616576, 0.038091996399894315, 0.03112894239325734, 0.004857873745322642, -0.02927373470925976, -0.014986224161968327, 0.009185688019314174, 0.03835702473857595, 0.01716669533730104, -0.010420485831306925, -0.061197763981207236, -0.006071589207320535, -0.06779941452250411, 0.026286126271944807, 0.03597175851456987, 0.013697216854629437, -0.013986339440636994, -0.017744942371961385, -0.002943937788659709, -0.049223242503879786, 0.009179665155974653, -0.0009614855332897505, 0.01076984263864537, 0.02688846662260846, 0.007143754807984411, -0.01649207503862746, -0.005794512813653326, 0.005990273567317405, 0.017070322073287802, 0.02355150230927767, -0.0006339630607486504, 0.04565738703190449, 0.009480835331306479, 0.0786415371091594, 0.010643351332644073, 0.03570672645059778, -0.010119315655975097, -0.024479107082599073, -0.03329736504794317, -0.011414346757976122, -0.01792564503595405, 0.060041273637177, 0.003086993598659261, -0.05165669535989248, 0.025731974415933, -0.02686437330660515, -0.04332030743990503, -0.0030373005523258016, 0.03353830193326673, 0.013251484920632524, 0.03705597077323541, 0.013877918587299488, -0.05276500279720655, 0.01850389207061439, 0.007818376037980607, 0.00494220128265684, 0.055993544394554604, -0.05213856913053958, -0.019648338550610808, -0.045127330354541216, 0.0038429304686585877, 0.0023039512824949045, 0.04372989939989698, -0.007908727369976939, -0.004613925893990636, -0.01019761939864716, 0.0157813138346263, 0.011637213190635884, 0.05387331023452061, 0.014865756650629164, 0.0024349602016621487, 0.016058389762632203, 0.004201322967990235, -0.0019214652343292938, -0.007631650510648422, -0.01749195975995879, -0.013914058561304453, 0.021901090605276067, 0.04678978592257664, 0.007065450599651041, -7.966890155193094e-05, -0.009932590128642912, 0.016082483078635513, -0.040404980813245235, 0.024467059493274806, -0.029900168375926725, -0.02226249407061617, -0.031008473950595566, 0.032044497714609245, 0.003897141128157995, 0.03334555540524025, -0.025274195823934434, -0.03445385911726386, -0.00895679872331489, -0.020286817943956814, -0.02339489296128832, -0.023792439194601223, -0.05555986098120457, -0.04731984632523036, 0.013745403486636056, -0.019166464779963706, 0.01963629096128654, -0.015082599288626793, 0.02867139435859611, 0.01828704850129415, -0.01056504758997201, 0.002356655993328778, -0.011384229647310678, -0.017865410814623162, -0.018913482167961113, 0.032574558117262974, 0.057198225095881905, -0.05878840630384308, 0.00704135728364773, -0.026695718231936755, -0.013227390673306602, 0.022322728291947057, 0.019756759403948318, -0.043561244325228586, 0.014841662403303242, 0.11661306506639195, -0.0048367918609890925, -0.025683785921281153, -0.0037796848156579394, 0.005930039345986517, -0.05035564139455193, 0.004342872829324254, 0.03570672645059778, -0.023816532510604536, 0.024816417231935867, -0.015552424538627015, 0.06404081252250234, 0.029370107973273, -0.0016202951754127942, -0.04146510161855268, -0.04279024703725131, 0.04399492773857861, -0.0744492516958076, 0.027755837174598976, 0.03421292223194031, -0.07165438978651913, -0.00479763998965306, 0.01023376030397474, -0.053198686210556574, 0.0007427607504985215, 0.055993544394554604, -0.03122531565727058, 0.016178858205293977, 0.007119661491981101, -0.03920030011191793, 0.05449974390118757, -0.03527304303724776, -0.04088685458389234, 0.017985879257284936, -0.03789924614657738, -0.01001691766597711, 0.03108075576125072, -0.027852210438612215, -0.03580310343990148, -0.018142486742629065, 0.02113009517994402, 0.013962246124633685, 0.0060053321226501265, -0.013227390673306602, -0.003939305129655748, -0.026430688030609894, 0.0008199356137480684, 0.06481180608518915, -0.03775468625055752, -0.020527754829280365, 0.024346591050613032, 0.030309758473273447, 0.008390599277978816, -0.01766061483462719, 0.021985418142610267, 0.03334555540524025, -0.04274206040524469, 0.0009381449005808906, -0.03821246111726564, 0.021768574573290022, 0.04016404392792168, 0.034935732887910964, -0.052668629533193304, -0.010836100654638392, 0.010799959749310814, -0.026816186674598532, 0.01721488383195289, -0.05088570179720566, -0.008727909427315607, 0.019600150055958963, 0.0035387486288263477, -0.005990273567317405, 0.016648682523971586, 0.00791475023331646, -0.04332030743990503, 0.008396622141318337, -0.010378322062639824, -0.028623207726589488, -0.05339143646387351, 0.001224256520579995, 0.034574327559925636, 0.02867139435859611, -0.00950492864730979, 0.013986339440636994, 0.02956285822658993, 0.03214087470391294, -0.018467751165286813, 0.005505389296323155, 0.016624589207968277, 0.021708340351959135, -0.02474413542128071, -0.03428520404259546, -0.05030745476254531, -0.059559399866529895, 0.050789324807901964, 0.018046113478615823, 0.020696409903948762, -0.037923341325225915, 0.03361058374392188, 0.0336587703759285, 0.022985302863941598, 0.008408669730642604, -0.0031562628134913905, -0.008282177493318695, 0.050162891141235004, 0.00968563037997984, 0.017732896645282343, -0.003963398445659057, -0.032213152789277645, -0.011480604773969144, -0.0003263930983534448, 0.009788028369977827, -0.011095107061303119, -0.021310795981291455, 0.004517551698654784, 0.01828704850129415, 0.013540607506640084, -0.05228312902655944, 0.02578016104793962, 0.0408627594052438, -0.06832947119986738, -0.003132169031826774, 0.0071798952476506825, 0.023611736530608562, 0.02792449224926737, -0.012137155551301551, 0.05772828549853563, 0.006758257095318386, -0.023382847234609278, -0.06755847763718055, -0.021708340351959135, 0.00820387375064663, 0.01678119855595763, -0.008854400733316904, 0.008745979879979396, -0.011173410803975183, 0.01580540715062961, -0.022744365978618047, -0.016648682523971586, -0.013998386098638651, -0.030333853651921983, -0.04346487106121534, -0.03120122234126727, 0.04997014461320853, 7.406902602583187e-05, -0.013420139995300921, 0.02223840075461286, 0.017407632222624595, 0.09044740723710891, 0.08798985547715722, 0.045970605727883196, 0.02970741998525502, 0.0615832644878411, -0.0067100699976504604, 0.01543195609596524, 0.07097976948784554, -0.011426393415977776, -0.016395699911968993, 0.01611862398396309, 0.0157813138346263, -0.09266401466115615, -0.0393207685545797, -0.022382962513277944, 0.00734252699331825, 0.017443773127952172, -0.03332146022659171, -0.040356794181238616, 0.05348780972788675, -0.0019124301244127261, 0.006782350876983003, -0.024936883811952415, 0.0029499611176605363, -0.043488962514573425, 0.024816417231935867, -0.050789324807901964, 0.01903395061062289, 0.010269900277979704, -0.04401902291722715, 0.0010021435279143058, 0.007902703575314805, -0.00915557090864873, -0.038453398002589186, -0.0266234364212816, -0.02790039893326406, -0.0074931120809841635, -0.03428520404259546, 0.015239207705293533, -0.04153737970391738, -0.02549103753060945, 0.0026774023371592738, -0.04835587195188927, 0.006210127636984794, -0.005999308327987993, -0.014901896624634129, -0.015347628558631041, 0.00036836868164501533, -0.013408093337299266, -0.010998731934644653, 0.0017633509854123465, 0.044284051255908785, 0.0186123129239519, 0.0003058758865618071, 0.006722116655652115, 0.0007502900281648825, 0.027418527025262183, 0.03363467892257042, -0.009782004575315693, -0.02400928090127624, -0.012299786831307813, -0.005077727814990031, -0.024912790495949105, -0.02005792864795753, -0.021455357739956542, 0.02226249407061617, -0.00259909789599525, 0.00440913037965597, 0.01834728272262504, -0.0406941043305754, 0.002879186186993527, 0.020539800555959407, -0.04630791587721999, 0.001773891927579121, -0.03505620133057274, -0.017696755739954766, -0.05093388842921228, -0.01178779781264049, -0.007252176126983225, 0.0010096728055806667, 0.05551167434919795, 0.00602340210965261, -0.019889273573289134, 0.007607556728983805, -0.011107153719304775, 0.007993054907311137, 0.01638365418528995, -0.032261343146574716, 0.13155110725296673, -0.01323943826263087, -0.0055445416333204925, -0.018576172018624323, -0.031032567266598875, -0.017046228757284492, -0.01580540715062961, -0.015142832578635067, -0.024442966177271496, -0.008980892970640813, -0.03438158103189916, 0.006547438251982892, 0.007950891138644037, 0.048114935066565716, 0.03120122234126727, 0.003043323881326629, -0.010137386108638886, 0.006481180701651177, -0.0034755029758256994, -0.01437183715330302, 0.011016802387308443, 0.005637904396986585, 0.008860424527979038, 0.03563444836523308, -0.004984365051323939, 0.0025644634049945122, 0.001831114251578942, 0.012372067710640354, -0.019949507794620024, -0.0344779542959124, -0.034574327559925636, -0.005963167888321722, 0.0017528100432455717, -0.022491383366615453, -0.012456395247974553, -0.005740302386984572, 0.022852786831955553, -0.013155109793974058, -0.01574517292929872, -0.023467174771943475, -0.00653539112831993, -0.011221598367304417, 0.04813903024521426, -0.0024470070924944567, -0.011661306506639194, -0.018853247946630226, -0.013034642282634895, 0.0007397490859981078, 0.008077382444645334, 0.014721194891964079, -0.01434774383729971, 0.07049789571719843, -0.0060143668833207145, -0.005818606595317942, -0.04452498814123234, -0.0008282178075395328, 0.01825090759596657, -0.005011470730319622, 0.041031414479912195, 0.013673122607303514, 0.0018326200838291488, -0.032791399823937986, -0.0025418758048260824, 0.011227621230643936, 0.03517666977323451, -0.003728485820658946, -0.04435633306656394, -0.012492536153302132, 0.01397429278263534, -0.009944636786644567, -0.0006388571028733178, 0.03324917841593655, 0.01220341263597196, 0.013576748411967661, 0.009233875582643407, -0.006559484909984547, -0.035248947858599215, -0.020901205883944736, -0.03189993781858939, -0.0010028965022470726, -0.013769496802639367, 0.027755837174598976, -0.0243586386399373, -0.011064989950637675, 0.02151559196128743, 0.0005688350301237485, -0.009854285454648237, -0.03486345107725581, -0.024888697179945796, 0.028406364157269246, -0.03989901558924005, 0.006167963868317695, 0.020178397090619308, 0.00010437426385914088, -0.0014892861398302234, 0.0077762122693135075, 0.0214433120132775, -0.05922208971719311, 0.015709032023971142, 0.018853247946630226, 0.012721425449301415, 0.0006460098933732954, -0.014998270819969982, 0.030357946967925292, -0.01785336322529889, 0.015684938707967833, 0.01794973835195736, -0.0019892285004958895, 0.020624128093293604, -0.017877456541302204, 0.01450435225396645, 0.02072050321995207, -0.019238746590618864, 0.03197221962924455, 0.024864603863942486, 0.007252176126983225, 0.0215276395506117, 0.02732215189860372, 0.0199856486999476, 0.0474162195892436, -0.04727165969322374, -0.009059196713312878, -0.006818491316649275, 0.0247200421052774, -0.006704046668649633, -0.006595625349650819, -0.057198225095881905, -0.012287740173306158, 0.026165657829283033, 0.015395816121960275, -0.013564701753966006, -0.0266234364212816, -0.029442389783928158, -0.016106576394638823, 0.007029310159984769, 0.014395931400628942, 0.0031261457028259466, 0.018889388851957803, 0.014407978058630597, -0.020660268998621185, 0.005764395702987882, 0.01289008052396981, 0.00930615646197595, 0.03498391951991758, -0.007679837608316348, 0.039561705439903255, -0.010300017388645147, -0.005318664234652276, 0.0014335696480806096, 0.010998731934644653, -0.028044960691929147, 0.02117828181195064, 0.02929782802526307, 0.010799959749310814, -0.012263646857302848, -0.006860655085316373, 0.018455703575962545, -0.03271912173857328, 0.031008473950595566, 0.01687757181997087, -0.017347398001293705, -0.012829846302638922, -0.024298404418606413, -0.02546694421460614, 0.010498789573978987, -0.01966038427728985, -0.005595740628319486, -0.009233875582643407, 0.03406836233592045, -0.00043970834306159977, 0.017696755739954766, -0.031418064047942285, -0.01719079051594958, -0.031369877415935665, 0.02279255447326989, 0.04582604210657288, 0.015865641371960497, 0.01834728272262504, 0.008794167443308628, 0.0014335696480806096, -0.04093504121589896, 0.0199856486999476, -0.04264568714123145, -0.02005792864795753, 0.030478415410587066, -0.014191135420632968, -0.05580079786652812, 0.02367197075193945, 0.033899707261252056, -0.014624820696628226, 0.005887875577319418, 0.014564586475297339, -0.043657617589241825, -0.0004287909428322733, -0.014456164690637216, 0.0019711582806627537, 0.0016022249555796583, 0.0012174801008310743, -0.002968031337493672, -0.0009607326171646469, 0.006390829835316151, -4.526374783519712e-06, -0.00022023064414526745, 0.008107499555310779, -0.0024274311568264406, -0.028334084209259317, -0.016937806041301757, 0.019961555383944292, -0.017744942371961385, -0.011805868265304281, -0.03727281247991042, -0.010384344925979345, -0.034670700823938874, -0.0052072310183223945, 0.021684247035955825, 0.020708455630627804, -0.05970396348784021, -0.025683785921281153, 0.022563665177270608, -0.0358512900719081, -0.026310219587948117, -0.009083290029316187, 0.04038088935988715, -0.00939650686264967, 0.004686206773323179, -0.00802317201797658, 0.006643812447318744, 0.00939650686264967, -0.006104718215317047, 0.02553922416261607, 0.009914519675979123, 0.04122416473322913, 0.007288316566649497, -0.026527063157268358, 0.010480720052637811, -0.0215276395506117, -0.014118854541300426, -0.01017352608264385, -0.005140973467990679, -0.029827886565271567, 0.023503315677271052, -0.010474696257975678, -0.01609453066795978, 0.019286933222625483, 0.032526371485256354, -0.04816312169857234, -0.0004585314790198389, -0.016733011923951012, 0.002843045747327256, 0.0007725013157899187, -0.0077521184876488914, 0.02191313633195511, 0.00592401601698569, -0.016010203130625584, -0.027129403507932012, 0.01485370999262751, 0.010354227815313902, 0.0033098595656577173, 0.04997014461320853, -0.006601648678651646, 0.012197388841309826, -0.016961901219950296, -0.036405441927919904, -0.015022365067295906, 0.017732896645282343, 0.008896564501984002, -0.01792564503595405, -0.004418165605987864, -0.021901090605276067, -0.021262609349284835, 0.0004777310730406298, 0.031731282743920994, -0.011426393415977776, -0.002266305126993753, 0.015504236975297783, 0.020587989050611256, 0.00019933695973916218, -0.030719350433265392, 0.0052524066843205605, -0.014070666977971193, -0.011336043015304059, 0.0336587703759285, -0.031634909479907755, -0.012173295525306516, -0.024455011903950538, -0.01469710157596077, 0.03120122234126727, -0.022744365978618047, -0.011233645025306072, -0.028502739283927714, -6.404570278112888e-05, 0.018130441015950023, -0.06481180608518915, 0.047440314767892136, 0.009830192138644925, 0.006020390212321543, -0.0005413532714153248, -0.004677171546991285, 0.003620064734490785, 0.01690166699861941, 0.008089429102646989, -0.0037796848156579394, 0.012926220497974775, -0.03329736504794317, -0.01832318940662173, -0.00560477585465138, -0.0429589021119197, -0.0005797524594569067, 0.01503441172529756, 0.014034527003966228, 0.009059196713312878, 0.0114504876633037, 0.008842354075315249, 0.011305925904638614, 0.021118047590619752, 0.004761499549986789, 0.0487172772798746, 0.006541414457320758, 0.010281946935981359, 0.01973266608794501, 0.02956285822658993, -0.012817799644637267, -0.03170718756527246, 0.010137386108638886, 0.03086391219193048, 0.030165198577253586, 0.0060354487676542645, 0.0315626276692526, 0.0006670917777068449, -0.007137731478983583, 0.01651616835463077, -0.012468441905976207, 0.0044000951533240745, 0.015552424538627015, -0.012902127181971465, -0.014913943282635784, 0.002088614593162809, -0.007800305585316817, 0.011396277236634946, 0.01554037788062536, 0.004008574111657223, -0.012420255273969588, 0.014781429113294966, -0.014239322983962202, -0.01469710157596077, 0.012878033865968155, -0.01291417383997312, 0.017275118053283776, -0.00763767383964925, -0.024057467533282858, -0.002514770358661052, -0.0003757097157281847, 0.029683324806606484, -0.029851981743920106, 0.026310219587948117, 0.03958579689326134, -0.018576172018624323, 0.025635599289274533, -0.016528215943955038, 0.025346475771944363, 0.041585566335924, -0.011269784999311036, -0.013576748411967661, -0.00282497552749412, 0.023611736530608562, 0.014721194891964079, -0.021358984475943303, 0.012745518765304725, 0.02790039893326406, 0.002478629918994781, 0.00809545196598651, 0.04768125165321569, 0.013733356828634401, -0.013492420874633463, -0.040404980813245235, 0.004644043004656081, 0.00489702608231998, 0.01790155171995074, -0.018720733777289406, 0.017600380613296298, 0.026719811547940064, -0.04498276673323091, 0.025731974415933, 0.032044497714609245, -0.019214653274615554, -0.007860539806647705, -0.026743904863943374, -0.006848608427314718, 0.016733011923951012, -0.017443773127952172, 0.010101245203311309, -0.012613003664641293, -0.007878610259311495, -0.005592728730988419, 0.008191827092644976, 0.0006704799293736419, 0.0005439885069570186, 0.038718430066561275, -0.006086647762653258, 0.03739328092257219, -0.01651616835463077, -0.011576978969304997, -0.014106807883298772, -0.01448025893796314, -0.010083174750647518, 0.04582604210657288, -0.027466713657268802, 0.043657617589241825, 0.023153957938609995, 0.018118393426625756, 0.0365740970025883, -0.011601072285308307, 0.02582834767994624, -0.0010059081667474863, 0.02223840075461286, 0.028309989030610782, -0.01176370449663718, -0.021033720053285552, -0.007950891138644037, 0.028069054007932456, 0.018009972573288246, -0.019491729202621457, -0.02876776762260935, 0.017022133578635957, 0.0019726642293282875, -0.017841317498619853, -0.00036178059279078117, 0.013914058561304453, -0.003927258005992786, -0.008721886563976086, 0.002706013499159184, 0.000814665142664681, 0.00602340210965261, 0.03170718756527246, 0.014395931400628942, 0.02934601465726969, 0.018130441015950023, -0.005177113907656951, -0.019816993625279205, 0.040284512370583454, -0.02761127541593389, -0.017299211369287085, -0.006204104307983967, 0.007029310159984769, -0.021021672463961284, 0.005023517388321277, -0.011444463868641565, 0.027779930490602286, 0.0013695710207471943, -0.018130441015950023, -0.0406941043305754, 0.0037947433709906615, 0.004848838518990747, 0.011835985375969724, -0.0068666784143172005, 0.05435518027987726, 0.038983458405242914, -0.0035447721906578284, -0.023105771306603372, -0.005366851332320202, 0.022732320251939005, -0.0014207700157461878, 0.0071798952476506825, -0.02464776215726747, 0.011131247035308085, -0.0005997049987066325, 0.006517321141317448, 0.004183252980987753, 0.0029258675688265735, -0.043392589250560186, 0.0161427172999664, 0.0038911177991571675, -0.018913482167961113, -0.004638019675655253, 0.01898576397861627, -0.01238411436864201, 0.0039031644571588227, -0.03182765600793423, -0.007005216843981459, -0.0011113177048305601, 0.0022241411254960005, -0.02040728638661859, -0.002181977356828902, 0.025250102507931124, 0.024539339441284735, 0.03312870997327478, 0.005773430929319776, 0.009577209526642332, 0.020298865533281082, -0.005156032023323401, 0.012781659670632302, 0.0055897172993186585, 0.0026322266711611077, -0.009336273572641393, 0.02078073744128296, -0.016889619409295138, -0.00955311527931641, -0.007878610259311495, -0.03233362123193942, 0.01919055995861224, -0.022045652363941154, 0.03739328092257219, -0.007559369631315879, -0.051319385210555686, -0.04440451969857056, -0.001838643529245303, 0.015636752075961213, 0.02871958099060273, 4.936366371862194e-05, -0.025153727381272657, -0.026454781346613204, 0.021298750254612416, 0.026767998179946684, -0.00983621593330706, 0.01200464045063812, 0.016696871018623435, -5.242242185664422e-05, 0.006981123062316842, -0.049584647831865114, -0.022407055829281253, 0.03014110339860505, -0.002267810842828633, 0.006957029280652226, 0.009101360481979976, 0.016660730113295854, 0.009486858194646, 0.010998731934644653, 0.022587758493273918, -0.021009626737282242, 0.0027993760299946232, -0.029924261691930035, -0.03700778414122878, -0.010884287286645011, -0.028069054007932456, 0.007866563601309839, 0.0060053321226501265, -0.016672777702620125, 0.005692114823655339, -0.017311257095966127, 0.021298750254612416, -0.00779428225631599, 0.018576172018624323, -0.02037114548129101, -0.017600380613296298, -0.004514539801323716, 0.0029333968464929343, 0.026430688030609894, 0.0024199018791600797, -0.005396968442985647, -0.009583232389981853, 0.015263301021296844, 0.009812121685981137, -0.02073255080927634, -0.04997014461320853, 0.023756298289273645, -0.016733011923951012, -0.02368401647861849, 0.0015013330306625316, -0.01120955170930276, 0.025009165622607573, 0.00011369171732262253, 0.008962822517977025, 0.01649207503862746, 0.0024997118033283305, 0.020985533421278933, -0.011637213190635884, 0.028044960691929147, -0.005794512813653326, 0.005990273567317405, -0.007378667432984522, -0.018443657849283503, -0.04269387377323807, -0.04064591769856878, 0.005360828003319375, 0.06307706498120812, 0.006951005951651399, 0.00017571393255168323, 0.014913943282635784, 0.032164966157271026, -0.0006478922127898856, 0.04257340533057629, -0.005219278141985357, -0.01714260202129773, 0.00010249195171850855, -0.00046944890835299706, 0.023202144570616614, -0.021852902110624222, -0.004767522878987617, -0.022093838995947773, -0.001121858646997335, 0.036935502330573626, 0.004894014184988913, -0.018467751165286813, 0.0028535866894940304, 0.003945328458656575, -0.02159991949862163, -0.011402300099974467, -0.026406594714606584, 0.05334324983186689, -0.0035538071841590695, 0.013251484920632524, -0.013323765799965068, 0.03495982434126905, 0.013480374216631808, 0.02575606773193631, 0.019154419053284664, -0.0039513517876574025, -0.0008417704724143846, -0.024888697179945796, -0.05772828549853563, 0.021455357739956542, 0.017889504130626472, 0.034309299221244004, -0.006439016932984078, 0.00860141812131431, 0.002859610251325511, 0.017383538906621285, 0.01711850870529442, -0.03565853981859116, -0.024442966177271496, -0.0530059396825301, -0.053632373349197064, -0.016733011923951012, -0.025298289139937744, -0.02080483075728627, -0.007806328914317645, -0.0054421436433225055, -0.012010664245300253, -0.011890195802638477, 0.022539569998622073, 0.010781890227969639, 0.015203066799965956, 0.0075412996443133965, 0.017395584633300324, -0.050741138175895345, -0.024816417231935867, 0.011071012813977196, 0.040718199509223944, 0.0015871664002469364, -0.005460214095986295, 0.0146850539866365, -0.0018988775177455376, -0.0004837544893529523, -0.034887546255904345, 0.016082483078635513, 0.01572107961329541, -0.012245576404639058, -0.013733356828634401, 0.007722001376983447, 0.023804484921280265, -0.0002115719922912513, -0.013986339440636994, 0.014444118032635562, 0.03170718756527246, 0.018552078702621013, -0.0015156386116624869, 0.0005357063131655541, -0.0004201322909782572, 0.0123600210526387, -0.018383423627952616, -0.0063727593826523625, -0.013721310170632746, -0.013649029291300204, -0.04127235136523575, 0.019780852719951628, 0.011095107061303119, 0.0011399288668304706, 0.012173295525306516, -0.01567289298128879, 0.015660845391964523, -0.022539569998622073, -0.035417602933267615, -0.016612543481289235, 0.011366160125969502, 0.03380333399723882, -0.01833523513330077, -0.026430688030609894, 0.029635138174599864, -0.011510721884634588, -0.026189753007931568, -0.0272739652665971, -0.008986915833980334, -0.020973485831954665, -0.0133117182106408, 0.006884748401319684, 0.007613580057984633, 0.015901782277288074, -0.030671163801258772, 0.009336273572641393, -0.011992593792636464, -3.915211508062205e-05, -0.04818721687722088, -0.00817978043464332, -0.017407632222624595, -0.010119315655975097, -0.044187677991895546, 0.02575606773193631, 0.014154994515305391, 0.007908727369976939, 0.019901321162613405, -0.029129172950594678, 0.02614156451327972, 0.012998501377307318, 0.023503315677271052, 0.0030357946036602677, 0.012396161957966279, 0.015383768532636007, -0.03300824525590346, 0.00024695948672858766, 0.03614041358923827, 0.02970741998525502, 0.010607211358639108, -0.013347859115968377, -0.03479116926660065, 0.023190098843937572, 0.0016458946729122907, -0.03006882345059512, 0.029635138174599864, -0.002462065647827179, 0.004728370541990278, -0.04671750783721194, -0.022647992714604805, -0.03014110339860505, -0.031634909479907755, 0.019359215033280638, 0.002840034082826842, -0.015335581900629386, 0.03512847941593744, -0.021455357739956542, 0.006770303753320042, 0.036309068663906666, -0.0018175615284964268, 0.042886624026555, 0.026671624915933445, 0.030574788674600308, 0.0032978126748254093, 0.010456625805311889, 0.021298750254612416, 0.005502377864653394, -0.015901782277288074, 0.011028849045310098, -0.015468097001292817, 0.02582834767994624, -0.017467866443955482, -0.017022133578635957, -0.014552539817295684, 0.01899780970529531, 0.01900985729461958, 0.0046018792359889815, -0.006914865511985127, -0.018443657849283503, -0.01716669533730104, 0.023912905774617774, 0.01023376030397474, 0.012034757561303564, 0.005905945564321901, -0.003415268987325465, 0.021876997289272757, -0.016528215943955038, 0.007234106139980743, -0.006613695336653301, -0.015130785920633412, 0.036453628559926524, -0.008613464779315965, 0.017395584633300324, 0.00046267257591557116, 0.011926335776643444, -0.011317972562640269, 0.025683785921281153, 0.006140858654983318, -0.002832504805160481, 0.05796922238385918, -0.014829615745301587, 0.010715632211976616, 0.00809545196598651, 0.011179434598637317, -0.020575941461286985, -0.005213254347323222, 0.018744827093292716, -0.006167963868317695, 0.03963398725055841, 0.009667559927316051, 0.023250331202623233, 0.030550695358597, 0.0372246258479038, 0.015191020141964301, 0.021636060403949206, -0.010312064046646802, -0.01503441172529756, 0.0023927964329950495, 0.02582834767994624, -0.00897486917597868, 0.01692576031462272, -0.023298519697275078, -0.0007152789917900978, 0.0010691538197481346, -0.022346821607950366, -0.01690166699861941, 0.018130441015950023, 0.008041241539317756, 0.0313939725945842, -0.023732204973270336, -0.0007009734107901426, 0.014540492227971415, 0.026310219587948117, 0.015793359561305342, 0.005077727814990031, 0.0007205494628734852, 0.008535161036643901, -0.013805637707966945, 0.02869548767459942, 0.009390483999310148, 0.006884748401319684, 0.01339604667929761, -0.014239322983962202, 0.012576863690636328, -0.0025463931851613763, -0.015949968909294693, 0.028478645967924404, 0.03522485640524114, 0.026334314766596652, -0.006872701743318028, 0.009601302842645642, 0.010402415378643134, 0.014841662403303242, -0.0010330134964971899, 0.006613695336653301, -0.018058159205294865, 0.05358418671719044, -0.03838111991722448, -0.009004986286644123, -0.02147945105595985, 0.02570788109992969, 0.009848262591308716, -0.0040627845383259765, 0.004397083721654314, 0.013106923161967439, -9.176276687803687e-07, 0.02790039893326406, 0.023900860047938732, 0.021696294625280093, 0.016660730113295854, -0.023081676127954837, -0.00943867156263938, 0.02398518758527293, 0.011221598367304417, 0.04303118392257486, 0.005035564046322932, -0.031369877415935665, 0.014673007328634845, 0.011480604773969144, -0.02688846662260846, -0.016202951521297287, 0.015082599288626793, -0.00557164684665487, 0.04582604210657288, -0.0052283129026559445, -0.018576172018624323, 0.027057121697276854, 0.028141333955942385, -0.00877609699064484, 0.016684823429299164, 0.012673237885972181, 0.0005454943392072255, 0.002248234907160617, 0.0372246258479038, 0.02184085638394518, -0.018805061314623606, -0.01678119855595763, -0.014576633133298994, -0.033731052186583656, -0.028406364157269246, 0.004481411258988512, 0.005137962036320919, -0.012673237885972181, 0.0007175377983730715, 0.025274195823934434, 0.004659101559988802, 0.039923110767888584, 0.004294685731656328, 0.03744146755457881, 0.020575941461286985, 0.0077521184876488914, -0.024189983565268903, -0.0026578261686606044, 0.032044497714609245, -0.01635956086928664, -0.03327327359458509, -0.006086647762653258, -0.010583117111313186, 0.006342642271986918, 0.007113637697318966, 0.03322508696257847, 0.015552424538627015, -0.005719220502651022, -0.018768920409296026, -0.008197849955984497, -0.02108190668529217, 0.10957773483703549, -0.022190214122606237, -0.017263070463959508, -0.002510252745495105, 0.0041862644126575135, -0.029948355007933344, 0.017889504130626472, -0.01178779781264049, -0.04963283446387173, -0.006020390212321543, -0.032164966157271026, 0.025346475771944363, 0.01722692955863193, 0.05156032209587924, 0.030719350433265392, -0.0022301646873274816, -0.022563665177270608, 0.007860539806647705, 0.026286126271944807, 0.009083290029316187, 0.02797267888127399, -0.016937806041301757, 0.03177946937592761, -0.013588795069969316, -0.018780967998620297, -0.016287279058631487, 0.016528215943955038, 0.023515361403950094, 0.011721540727970083, 0.036453628559926524, -0.0033670818896575382, -0.008727909427315607, 0.010125338519314618, 0.016708916745302473, 0.006499250688653659, 0.012293763967968292, -0.008541183899983422, -0.015841548055957187, 0.01654026167063408, -0.034935732887910964, 0.003945328458656575, 0.016130671573287358, -0.027057121697276854, -0.015889734687963807, -0.022009511458613577, 0.02149149864528412, 0.010251830756638528, -0.010908381533970935, 0.007167848589649028, -0.038140183031900934, 0.018082252521298175, -0.02398518758527293, 0.009360366888644703, 0.018672547145282787, -0.05546348771719133, -0.0038037783644919027, 0.027418527025262183, 0.008637559026641888, 0.028912329381274433, 0.018034065889291555, 0.04163375669322108, 0.005773430929319776, 0.008390599277978816, 0.0006840325942484937, 0.034935732887910964]\n"
     ]
    }
   ],
   "source": [
    "# embeddings.py\n",
    "import os\n",
    "from langchain.embeddings import OpenAIEmbeddings\n",
    "import tiktoken\n",
    "\n",
    "def batch_texts_by_token_limit(texts: list[str], max_tokens: int = 300000, model_name: str = \"text-embedding-3-small\") -> list[list[str]]:\n",
    "    \"\"\"\n",
    "    Divide la lista de textos en lotes para no exceder el límite de tokens por solicitud.\n",
    "    \"\"\"\n",
    "    enc = tiktoken.encoding_for_model(model_name)\n",
    "    batches = []\n",
    "    current_batch = []\n",
    "    current_tokens = 0\n",
    "    for text in texts:\n",
    "        tokens = len(enc.encode(text))\n",
    "        if current_tokens + tokens > max_tokens and current_batch:\n",
    "            batches.append(current_batch)\n",
    "            current_batch = []\n",
    "            current_tokens = 0\n",
    "        current_batch.append(text)\n",
    "        current_tokens += tokens\n",
    "    if current_batch:\n",
    "        batches.append(current_batch)\n",
    "    return batches\n",
    "\n",
    "def create_openai_embeddings(texts: list[str]) -> list[list[float]]:\n",
    "    \"\"\"\n",
    "    Crea embeddings usando el modelo text-embedding-3-small de OpenAI, respetando el límite de tokens por solicitud.\n",
    "    Args:\n",
    "      texts (list[str]): Lista de textos a vectorizar.\n",
    "      openai_api_key (str): API Key OpenAI.\n",
    "    Returns:\n",
    "      list[list[float]]: Vectores embedding.\n",
    "    \"\"\"\n",
    "    os.environ[\"OPENAI_API_KEY\"] = os.getenv(\"OPENAI_API_KEY\")\n",
    "    embedding_model = OpenAIEmbeddings(model=\"text-embedding-3-small\")\n",
    "    batches = batch_texts_by_token_limit(texts)\n",
    "    vectors = []\n",
    "    for batch in batches:\n",
    "        vectors.extend(embedding_model.embed_documents(batch))\n",
    "    return vectors\n",
    "\n",
    "\n",
    "# Test básico\n",
    "if __name__ == \"__main__\":\n",
    "    embeddings = create_openai_embeddings(chunks)\n",
    "    print(f\"Embedding vector length for first text: {len(embeddings[0])}\")"
   ]
  },
  {
   "cell_type": "markdown",
   "id": "72c82e20",
   "metadata": {},
   "source": [
    "## 4. Vector Stores"
   ]
  },
  {
   "cell_type": "code",
   "execution_count": 48,
   "id": "a3d89880",
   "metadata": {},
   "outputs": [
    {
     "name": "stderr",
     "output_type": "stream",
     "text": [
      "/var/folders/cn/lj16zlj56_v83zrg9_b4r9gr0000gn/T/ipykernel_4022/1687061784.py:30: LangChainDeprecationWarning: Since Chroma 0.4.x the manual persistence method is no longer supported as docs are automatically persisted.\n",
      "  vectorstore.persist()\n"
     ]
    },
    {
     "name": "stdout",
     "output_type": "stream",
     "text": [
      "Embeddings guardados con éxito.\n"
     ]
    }
   ],
   "source": [
    "# vector_store.py\n",
    "import chromadb\n",
    "from chromadb.config import Settings\n",
    "from langchain.vectorstores import Chroma\n",
    "from langchain.embeddings import OpenAIEmbeddings\n",
    "import os\n",
    "\n",
    "def save_embeddings_in_chromadb(\n",
    "    texts: list[str],\n",
    "    metadatas: list[dict],\n",
    "    persist_directory: str\n",
    "):\n",
    "    \"\"\"\n",
    "    Guarda fragmentos y embeddings en ChromaDB para búsqueda.\n",
    "    Args:\n",
    "      texts: Lista de documentos/textos.\n",
    "      metadatas: Lista de diccionarios con metadatos, mismo orden que texts.\n",
    "      persist_directory (str): Carpeta donde persistir la DB.\n",
    "      openai_api_key (str): API Key OpenAI para crear embeddings.\n",
    "    \"\"\"\n",
    "    os.environ[\"OPENAI_API_KEY\"] = os.getenv(\"OPENAI_API_KEY\")\n",
    "    \n",
    "    embedding_model = OpenAIEmbeddings(model=\"text-embedding-3-small\")\n",
    "    vectorstore = Chroma(\n",
    "        collection_name=\"internal_docs\",\n",
    "        embedding_function=embedding_model,\n",
    "        persist_directory=persist_directory\n",
    "    )\n",
    "    vectorstore.add_texts(texts=texts, metadatas=metadatas)\n",
    "    vectorstore.persist()\n",
    "    vectorstore = None  # Liberar memoria\n",
    "\n",
    "\n",
    "# Test básico\n",
    "if __name__ == \"__main__\":\n",
    "    sample_metadata = [{\"source\": example_pdf_path}]\n",
    "\n",
    "    batches = batch_texts_by_token_limit(chunks)\n",
    "    for batch in batches:\n",
    "        save_embeddings_in_chromadb(batch, sample_metadata, \"./db\")\n",
    "    print(\"Embeddings guardados con éxito.\")\n"
   ]
  },
  {
   "cell_type": "markdown",
   "id": "85da1ee7",
   "metadata": {},
   "source": [
    "## 5. Retriving from the Persistant Vector Datastore"
   ]
  },
  {
   "cell_type": "code",
   "execution_count": 54,
   "id": "e9fd2322",
   "metadata": {},
   "outputs": [
    {
     "name": "stdout",
     "output_type": "stream",
     "text": [
      "Documentos recuperados: 4\n",
      "Primera doc preview: I.  POLÍTICAS\n",
      " 1. Políticas para Mantener un Ambiente de Trabajo Libre de Drogas y Alcohol  .....................  1\n",
      " 2. Política que Prohíbe el uso de Tabaco  ..................................................................................  2\n",
      " 3. Política sobre Igualdad de Oportunidades en el Emp\n"
     ]
    }
   ],
   "source": [
    "# retriever.py\n",
    "import os\n",
    "from langchain.vectorstores import Chroma\n",
    "from langchain.embeddings import OpenAIEmbeddings\n",
    "from langchain.schema import Document\n",
    "from chromadb.config import Settings\n",
    "import chromadb\n",
    "\n",
    "def load_retriever(persist_directory: str, openai_api_key: str):\n",
    "    \"\"\"\n",
    "    Carga la base ChromaDB como vectorstore para realizar consultas.\n",
    "    Retorna el objeto retriever.\n",
    "    \"\"\"\n",
    "    os.environ[\"OPENAI_API_KEY\"] = openai_api_key\n",
    "    embedding_model = OpenAIEmbeddings(model=\"text-embedding-3-small\")\n",
    "    vectorstore = Chroma(\n",
    "        collection_name=\"internal_docs\",\n",
    "        embedding_function=embedding_model,\n",
    "        persist_directory=persist_directory\n",
    "    )\n",
    "    retriever = vectorstore.as_retriever(search_type=\"similarity\", search_kwargs={\"k\":4})\n",
    "    return retriever\n",
    "\n",
    "\n",
    "# Test básico: recuperar textos similares\n",
    "if __name__ == \"__main__\":\n",
    "    retriever = load_retriever(\"./db\", os.getenv(\"OPENAI_API_KEY\"))\n",
    "    query = \"¿Cuáles son las políticas de seguridad?\"\n",
    "    docs = retriever.get_relevant_documents(query)\n",
    "    print(f\"Documentos recuperados: {len(docs)}\")\n",
    "    print(f\"Primera doc preview: {docs[0].page_content[:300] if docs else 'Sin resultados'}\")"
   ]
  },
  {
   "cell_type": "markdown",
   "id": "d4abf77e",
   "metadata": {},
   "source": [
    "## 6. Retrivers in Langchain"
   ]
  },
  {
   "cell_type": "code",
   "execution_count": 58,
   "id": "568bce4f",
   "metadata": {},
   "outputs": [
    {
     "name": "stderr",
     "output_type": "stream",
     "text": [
      "/var/folders/cn/lj16zlj56_v83zrg9_b4r9gr0000gn/T/ipykernel_4022/404877734.py:19: LangChainDeprecationWarning: The class `ChatOpenAI` was deprecated in LangChain 0.0.10 and will be removed in 1.0. An updated version of the class exists in the :class:`~langchain-openai package and should be used instead. To use it run `pip install -U :class:`~langchain-openai` and import as `from :class:`~langchain_openai import ChatOpenAI``.\n",
      "  llm = ChatOpenAI(model_name=\"gpt-3.5-turbo\", temperature=0)\n"
     ]
    },
    {
     "name": "stdout",
     "output_type": "stream",
     "text": [
      "Respuesta:\n",
      "Para saber qué procedimientos seguir en caso de emergencia laboral, debes revisar el documento proporcionado en busca de secciones específicas relacionadas con emergencias laborales, seguridad en el trabajo o protocolos de emergencia. En este caso, parece que el documento proporcionado no contiene información detallada sobre procedimientos específicos para emergencias laborales. Por lo tanto, te recomendaría consultar directamente con tu empleador o el departamento de recursos humanos para obtener información detallada sobre los procedimientos a seguir en caso de emergencia en tu lugar de trabajo.\n"
     ]
    }
   ],
   "source": [
    "# rag_answer.py\n",
    "from langchain.chains import RetrievalQA\n",
    "from langchain.chat_models import ChatOpenAI\n",
    "import os\n",
    "\n",
    "def generate_answer_from_rag(question: str, retriever, openai_api_key: str) -> str:\n",
    "    \"\"\"\n",
    "    Dada una pregunta y un retriever, genera una respuesta usando RAG y modelo GPT.\n",
    "    \n",
    "    Args:\n",
    "      question (str): Pregunta a responder.\n",
    "      retriever: Retriever previamente inicializado (ChromaDB).\n",
    "      openai_api_key (str): API key para OpenAI.\n",
    "      \n",
    "    Returns:\n",
    "      str: Respuesta generada.\n",
    "    \"\"\"\n",
    "    os.environ[\"OPENAI_API_KEY\"] = openai_api_key\n",
    "    llm = ChatOpenAI(model_name=\"gpt-3.5-turbo\", temperature=0)\n",
    "    qa_chain = RetrievalQA.from_chain_type(llm=llm, chain_type=\"stuff\", retriever=retriever)\n",
    "    result = qa_chain.run(question)\n",
    "    return result\n",
    "\n",
    "\n",
    "# Test básico\n",
    "if __name__ == \"__main__\":\n",
    "    openai_api_key = os.getenv(\"OPENAI_API_KEY\")\n",
    "    retriever = load_retriever(\"./db\", openai_api_key)\n",
    "    question = \"¿Qué procedimientos debo seguir en caso de emergencia laboral?\"\n",
    "    answer = generate_answer_from_rag(question, retriever, openai_api_key)\n",
    "    print(f\"Respuesta:\\n{answer}\")"
   ]
  }
 ],
 "metadata": {
  "kernelspec": {
   "display_name": ".venv",
   "language": "python",
   "name": "python3"
  },
  "language_info": {
   "codemirror_mode": {
    "name": "ipython",
    "version": 3
   },
   "file_extension": ".py",
   "mimetype": "text/x-python",
   "name": "python",
   "nbconvert_exporter": "python",
   "pygments_lexer": "ipython3",
   "version": "3.13.2"
  }
 },
 "nbformat": 4,
 "nbformat_minor": 5
}
